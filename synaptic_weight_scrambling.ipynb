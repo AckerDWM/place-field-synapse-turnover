{
 "cells": [
  {
   "cell_type": "code",
   "execution_count": 1,
   "metadata": {
    "collapsed": true
   },
   "outputs": [],
   "source": [
    "%matplotlib inline\n",
    "from __future__ import division\n",
    "import numpy as np\n",
    "import matplotlib.pyplot as plt\n",
    "from skimage.measure import regionprops, label\n",
    "from copy import deepcopy\n",
    "from simulation import *"
   ]
  },
  {
   "cell_type": "markdown",
   "metadata": {},
   "source": [
    "## Load stored result of simulating 10,000 grid cells"
   ]
  },
  {
   "cell_type": "code",
   "execution_count": 2,
   "metadata": {
    "collapsed": true
   },
   "outputs": [],
   "source": [
    "fname = \"/Users/danielacker/Desktop/place-field-synapse-turnover/grid_cells.npy\"\n",
    "grid_cells = np.load(fname)"
   ]
  },
  {
   "cell_type": "markdown",
   "metadata": {},
   "source": [
    "## Generate random synaptic connections and weights"
   ]
  },
  {
   "cell_type": "code",
   "execution_count": 3,
   "metadata": {
    "collapsed": true
   },
   "outputs": [],
   "source": [
    "weight_grid = new_weight_grid()\n",
    "connection_indecies = np.random.randint(0, 10000, (1200, 2000))"
   ]
  },
  {
   "cell_type": "markdown",
   "metadata": {},
   "source": [
    "## Run simulations"
   ]
  },
  {
   "cell_type": "code",
   "execution_count": null,
   "metadata": {
    "collapsed": true
   },
   "outputs": [],
   "source": [
    "# run simulations\n",
    "results = simulate_with_n_scrambled(\n",
    "    connection_indecies, \n",
    "    np.arange(0, 1260, 60), \n",
    "    weight_grid,\n",
    "    grid_cells)"
   ]
  },
  {
   "cell_type": "markdown",
   "metadata": {},
   "source": [
    "## Analyze correlations between 3d place fields"
   ]
  },
  {
   "cell_type": "code",
   "execution_count": null,
   "metadata": {
    "collapsed": true
   },
   "outputs": [],
   "source": [
    "# evaluate correlations\n",
    "field_correlations = []\n",
    "for i in range(1, len(results)):\n",
    "    corr = place_field_correlation(results[0], results[i])\n",
    "    field_correlations.append(corr)\n",
    "\n",
    "# evaluate cells remaining\n",
    "starting_n = len(results[0][\"place_cell_ids\"])\n",
    "preserved = np.array([len(x) for x in field_correlations]) / starting_n"
   ]
  },
  {
   "cell_type": "code",
   "execution_count": null,
   "metadata": {
    "collapsed": true
   },
   "outputs": [],
   "source": [
    "# plot correlations and cells remaining\n",
    "fig, ax1 = plt.subplots()\n",
    "\n",
    "ax2 = ax1.twinx()\n",
    "\n",
    "ax1.axhline(0, linewidth=1, ls=\"--\", color=\"black\")\n",
    "\n",
    "ax1.boxplot(\n",
    "    field_correlations, \n",
    "    labels=np.arange(0, 105, 5)[1:],\n",
    "    showfliers=False, \n",
    "    medianprops={\"color\":\"black\", \"linewidth\":3});\n",
    "ax2.plot(range(1, 21), preserved*100, c=\"red\")\n",
    "\n",
    "ax1.set_xlabel(\"Scrambling [%]\")\n",
    "ax1.set_ylabel(\"Place field correlation\")\n",
    "ax2.set_ylabel(\"Place cells preserved [%]\", color=\"red\")\n",
    "\n",
    "ax1.set_ylim(-0.2, 1)\n",
    "ax2.set_ylim(-20, 100)\n",
    "\n",
    "plt.title(\"Loss of place preference leads place field drift\")\n",
    "\n",
    "plt.show()"
   ]
  },
  {
   "cell_type": "markdown",
   "metadata": {},
   "source": [
    "## Analyze 2d place field drift and loss"
   ]
  },
  {
   "cell_type": "code",
   "execution_count": null,
   "metadata": {
    "collapsed": true
   },
   "outputs": [],
   "source": [
    "def plot_centered_on_result(results, idx, cmap=\"Greys\"):\n",
    "    ax1 = plt.subplot(151)\n",
    "    linear = results[0]['place_cells_rates'][:, :100]\n",
    "    linear = np.log1p(linear) > 0\n",
    "    ax1.imshow(linear[idx,:], cmap=cmap)\n",
    "\n",
    "    ax2 = plt.subplot(152)\n",
    "    linear = results[1]['place_cells_rates'][:, :100]\n",
    "    linear = np.log1p(linear) > 0\n",
    "    ax2.imshow(linear[idx,:], cmap=cmap)\n",
    "\n",
    "    ax3 = plt.subplot(153)\n",
    "    linear = results[2]['place_cells_rates'][:, :100]\n",
    "    linear = np.log1p(linear) > 0\n",
    "    ax3.imshow(linear[idx,:], cmap=cmap)\n",
    "\n",
    "    ax4 = plt.subplot(154)\n",
    "    linear = results[3]['place_cells_rates'][:, :100]\n",
    "    linear = np.log1p(linear) > 0\n",
    "    ax4.imshow(linear[idx,:], cmap=cmap)\n",
    "\n",
    "    ax5 = plt.subplot(155)\n",
    "    linear = results[4]['place_cells_rates'][:, :100]\n",
    "    linear = np.log1p(linear) > 0\n",
    "    ax5.imshow(linear[idx,:], cmap=cmap)\n",
    "\n",
    "    ax2.set_yticklabels([])\n",
    "    ax3.set_yticklabels([])\n",
    "    ax4.set_yticklabels([])\n",
    "    ax5.set_yticklabels([])\n",
    "\n",
    "    ax1.set_title(\"0%\")\n",
    "    ax2.set_title(\"5%\")\n",
    "    ax3.set_title(\"10%\")\n",
    "    ax4.set_title(\"15%\")\n",
    "    ax5.set_title(\"20%\")\n",
    "\n",
    "    ax2.set_yticks([])\n",
    "    ax3.set_yticks([])\n",
    "    ax4.set_yticks([])\n",
    "    ax5.set_yticks([])\n",
    "\n",
    "    ax1.set_ylabel(\"Cell number\")\n",
    "    ax3.set_xlabel(\"Position [cm]\")\n",
    "\n",
    "    plt.tight_layout()\n",
    "    plt.show()"
   ]
  },
  {
   "cell_type": "code",
   "execution_count": null,
   "metadata": {
    "collapsed": true
   },
   "outputs": [],
   "source": [
    "idx_0 = position_sorted_indecies(results, 0)\n",
    "\n",
    "plot_centered_on_result(results, idx_0)"
   ]
  }
 ],
 "metadata": {
  "kernelspec": {
   "display_name": "Python 2",
   "language": "python",
   "name": "python2"
  },
  "language_info": {
   "codemirror_mode": {
    "name": "ipython",
    "version": 2
   },
   "file_extension": ".py",
   "mimetype": "text/x-python",
   "name": "python",
   "nbconvert_exporter": "python",
   "pygments_lexer": "ipython2",
   "version": "2.7.13"
  }
 },
 "nbformat": 4,
 "nbformat_minor": 2
}
